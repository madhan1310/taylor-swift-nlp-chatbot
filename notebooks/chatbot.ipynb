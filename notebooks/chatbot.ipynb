{
 "cells": [
  {
   "cell_type": "code",
   "execution_count": 1,
   "id": "25d71419",
   "metadata": {},
   "outputs": [],
   "source": [
    "import pickle\n",
    "import random\n",
    "from sklearn.feature_extraction.text import TfidfVectorizer\n",
    "from sklearn.metrics.pairwise import cosine_similarity\n",
    "from nltk.tokenize import word_tokenize\n",
    "from nltk.corpus import stopwords\n",
    "import os\n",
    "import spacy\n",
    "import requests\n",
    "import re\n",
    "from bs4 import BeautifulSoup\n",
    "import xml.etree.ElementTree as ET\n",
    "import json\n"
   ]
  },
  {
   "cell_type": "code",
   "execution_count": null,
   "id": "2484fd3b",
   "metadata": {},
   "outputs": [],
   "source": [
    "!python -m spacy download en_core_web_sm\n"
   ]
  },
  {
   "cell_type": "code",
   "execution_count": 2,
   "id": "4702c4c5",
   "metadata": {},
   "outputs": [],
   "source": [
    "# Initialize Spacy NLP model\n",
    "nlp = spacy.load(\"en_core_web_sm\")\n"
   ]
  },
  {
   "cell_type": "code",
   "execution_count": 3,
   "id": "837a9273",
   "metadata": {},
   "outputs": [],
   "source": [
    "# Load knowledge base from the pickle file\n",
    "with open('knowledge_base.pkl', 'rb') as f:\n",
    "    knowledge_base = pickle.load(f)"
   ]
  },
  {
   "cell_type": "code",
   "execution_count": 4,
   "id": "db41e5ba",
   "metadata": {},
   "outputs": [],
   "source": [
    "# Define cosine similarity \n",
    "def cosine_similarity(sentence1, sentence2):\n",
    "    nltk_stopwords = set(stopwords.words('english')) # Properly initializing the NLTK stopwords list\n",
    "    tokens1 = [word.lower() for word in word_tokenize(sentence1) if word not in nltk_stopwords]\n",
    "    tokens2 = [word.lower() for word in word_tokenize(sentence2) if word not in nltk_stopwords]\n",
    "    \n",
    "    # Vectorization\n",
    "    vectorizer = TfidfVectorizer()\n",
    "    vectors = vectorizer.fit_transform([\" \".join(tokens1), \" \".join(tokens2)])\n",
    "\n",
    "    # Cosine similarity\n",
    "    similarity = (vectors * vectors.T).toarray()[0][1]\n",
    "    return similarity\n"
   ]
  },
  {
   "cell_type": "code",
   "execution_count": 5,
   "id": "198c0cd6",
   "metadata": {},
   "outputs": [
    {
     "name": "stdout",
     "output_type": "stream",
     "text": [
      "Cosine Similarity: 0.2605556710562624\n"
     ]
    }
   ],
   "source": [
    "#Example usage\n",
    "sentence1 = \"This is a sample sentence.\"\n",
    "sentence2 = \"Test sentence.\"\n",
    "\n",
    "similarity = cosine_similarity(sentence1, sentence2)\n",
    "print(f\"Cosine Similarity: {similarity}\")"
   ]
  },
  {
   "cell_type": "code",
   "execution_count": 42,
   "id": "c0d5b36c",
   "metadata": {},
   "outputs": [],
   "source": [
    "# Fetch information from knowledge base once user inputs a question\n",
    "def fetch_information_from_knowledge_base(user_input, knowledge_base, threshold=0.5):\n",
    "    stop_words = set(stopwords.words('english')) # Properly initializing the stopwords list\n",
    "    tokens = [t for t in word_tokenize(user_input.lower()) if t not in stop_words]\n",
    "    \n",
    "    vectorizer = TfidfVectorizer()\n",
    "    user_vector = vectorizer.fit_transform([\" \".join(tokens)])\n",
    "    \n",
    "    knowledge_list = list()\n",
    "    for i in knowledge_base.values():\n",
    "        for j in i:\n",
    "            knowledge_list.append(j)\n",
    "    \n",
    "    knowledge_list_vectors = vectorizer.transform(list(knowledge_list))\n",
    "    \n",
    "    similarities = (user_vector * knowledge_list_vectors.T).toarray()[0]\n",
    "    most_similar_index = similarities.argmax()\n",
    "    most_similar_score = similarities.max()\n",
    "    \n",
    "    if most_similar_score > threshold:\n",
    "        return knowledge_list[most_similar_index].split('.')[:1]\n",
    "    else:\n",
    "        web_results = web_lookup(user_input)\n",
    "        if web_results:\n",
    "            return web_results\n",
    "        else:\n",
    "            return \"I'm sorry, I didn't understand that.\"\n",
    "    \n"
   ]
  },
  {
   "cell_type": "code",
   "execution_count": 44,
   "id": "54ba4a89",
   "metadata": {},
   "outputs": [
    {
     "data": {
      "text/plain": [
       "['[121] [127] \\n \\n Travis Kelce [ edit ] \\n American football player  Travis Kelce  in 2021 \\n Swift began dating  American football  player  Travis Kelce  around August 2023']"
      ]
     },
     "execution_count": 44,
     "metadata": {},
     "output_type": "execute_result"
    }
   ],
   "source": [
    "fetch_information_from_knowledge_base(\"Travis Kelce\", knowledge_base)"
   ]
  },
  {
   "cell_type": "code",
   "execution_count": 28,
   "id": "85d98224",
   "metadata": {},
   "outputs": [],
   "source": [
    "# Function to clean Wikipedia response\n",
    "def clean_wikipedia_response(response):\n",
    "    # Remove Wikipedia markup\n",
    "    clean_text = re.sub(r'\\[.*?\\]', '', response)\n",
    "    clean_text = re.sub(r'\\(.*?\\)', '', clean_text)\n",
    "    \n",
    "    # Remove extra spaces and line breaks\n",
    "    clean_text = re.sub(r'\\s+', ' ', clean_text)\n",
    "    clean_text = clean_text.strip()\n",
    "    \n",
    "    return clean_text\n"
   ]
  },
  {
   "cell_type": "code",
   "execution_count": 29,
   "id": "208946af",
   "metadata": {},
   "outputs": [],
   "source": [
    "#  Takes a list of bot responses as input, cleans each response \n",
    "def clean_bot_response(bot_response):\n",
    "    cleaned_responses = []\n",
    "    for response in bot_response:\n",
    "        cleaned_response = clean_wikipedia_response(response)\n",
    "        cleaned_responses.append(cleaned_response)\n",
    "    return cleaned_responses"
   ]
  },
  {
   "cell_type": "code",
   "execution_count": 30,
   "id": "9fca4cd5",
   "metadata": {},
   "outputs": [],
   "source": [
    "def get_random_response(user_input1):\n",
    "    user_input1 = user_input1.lower()\n",
    "    responses = {\"hi\": [\"Hello!\", \"Hi there!\", \"Hey!\"], \"hello\": [\"Hello!\", \"Hi there!\", \"Hey!\"], \"hey\": [\"Hello!\", \"Hi there!\", \"Hey!\"],\n",
    "                 \"farewell\": [\"Goodbye!\", \"See you later!\", \"Bye!\"], \"bye\": [\"Goodbye!\", \"See you later!\", \"Bye!\"]}\n",
    "    return random.choice(responses.get(user_input1))\n"
   ]
  },
  {
   "cell_type": "code",
   "execution_count": 31,
   "id": "3c9aac83",
   "metadata": {},
   "outputs": [],
   "source": [
    "# Path to store conversation history\n",
    "conversation_file_path = \"conversation_history.txt\""
   ]
  },
  {
   "cell_type": "code",
   "execution_count": 32,
   "id": "da4f6ef7",
   "metadata": {},
   "outputs": [],
   "source": [
    "# Store the user - bot conversation history\n",
    "def save_conversation(user_input, bot_response, user_name, user_interests, user_dislikes):\n",
    "    with open(conversation_file_path, 'a') as f:\n",
    "        if user_input.lower() in [\"interests\", \"dislikes\"]:\n",
    "            # Store interests and dislikes only once\n",
    "            f.write(f\"User {user_name}'s {user_input.capitalize()}: {user_interests if user_input.lower() == 'interests' else user_dislikes}\\n\")\n",
    "        elif bot_response:  # Check if bot response is not empty\n",
    "            # Store user input question\n",
    "            f.write(f\"User {user_name}: {user_input}\\n\")\n",
    "            # Store bot response\n",
    "            for response in bot_response:\n",
    "                f.write(f\"Bot: {response}\\n\")\n"
   ]
  },
  {
   "cell_type": "code",
   "execution_count": 33,
   "id": "aedcf347",
   "metadata": {},
   "outputs": [],
   "source": [
    "# Google the input query incase it does not exist in our knowledge base\n",
    "def web_lookup(query):\n",
    "    try:\n",
    "        # Send a GET request to a search engine (e.g., Google) with the query\n",
    "        response = requests.get(f\"https://www.google.com/search?q={query}\")\n",
    "        # Parse the HTML content of the search results page using BeautifulSoup\n",
    "        soup = BeautifulSoup(response.text, 'html.parser')\n",
    "        # Extract relevant information from the search results (e.g., titles, snippets)\n",
    "        results = soup.find_all('div', class_='BNeawe vvjwJb AP7Wnd')\n",
    "        # Process and format the results as needed\n",
    "        formatted_results = [result.get_text() for result in results]\n",
    "        return formatted_results\n",
    "    except Exception as e:\n",
    "        print(f\"Error during web lookup: {e}\")\n",
    "        return None"
   ]
  },
  {
   "cell_type": "code",
   "execution_count": 34,
   "id": "e673bc07",
   "metadata": {},
   "outputs": [
    {
     "name": "stdout",
     "output_type": "stream",
     "text": [
      "Query: Taylor Swift's age\n",
      "Web Lookup Result: ['Taylor Swift - Wikipedia', 'Taylor Swift | Biography, Albums, Songs, Grammys, & Facts', 'Taylor Swift - Simple English Wikipedia, the free encyclopedia', 'Taylor Swift - Age, Family, Bio - Famous Birthdays', \"Celebrate Taylor Swift's Birthday by the Numbers - People\", \"Taylor Swift Says She's a Proud Millennial in Birthday Post - Billboard\", 'Taylor Swift: Biography, Musician, 2024 Grammy Winner', 'Taylor Swift Bio (2023): Boyfriend, Height, Age, Zodiac Sign, Net ...', 'Taylor Swift Net Worth, Biography (Birth, Height, Career, Relationship)', 'How old is Taylor Swift? - Age Calculator - How Old Am I?']\n",
      "\n",
      "Query: Travis Kelce\n",
      "Web Lookup Result: ['Travis Kelce (@killatrav) • Instagram photos and videos', 'Travis Kelce (@tkelce) / X', 'Travis Kelce Stats, News and Video - TE - NFL.com', 'Travis Kelce - Wikipedia', 'Travis Kelce - Kansas City Chiefs', 'Travis Kelce - Kansas City Chiefs Tight End - ESPN', \"New contract makes Chiefs' Travis Kelce highest paid tight ... - CNN\", 'Travis Kelce | NFL - Spotrac.com', 'Chiefs sign Travis Kelce to new contract that reportedly makes him ...']\n",
      "\n"
     ]
    }
   ],
   "source": [
    "# Test the web lookup functionality\n",
    "queries = [\"Taylor Swift's age\", \"Travis Kelce\"]\n",
    "\n",
    "for query in queries:\n",
    "    print(f\"Query: {query}\")\n",
    "    web_result = web_lookup(query)\n",
    "    print(\"Web Lookup Result:\", web_result)\n",
    "    print()"
   ]
  },
  {
   "cell_type": "code",
   "execution_count": 35,
   "id": "d4fdf129",
   "metadata": {},
   "outputs": [],
   "source": [
    "class UserModel:\n",
    "    def __init__(self, user_name):\n",
    "        self.user_name = user_name\n",
    "        self.file_path = f\"{user_name}.xml\"\n",
    "        if os.path.exists(self.file_path):\n",
    "            self.load_user_model()\n",
    "        else:\n",
    "            self.create_user_model()\n",
    "\n",
    "    def create_user_model(self):\n",
    "        self.root = ET.Element(\"user\")\n",
    "        self.name = ET.SubElement(self.root, \"name\")\n",
    "        self.name.text = self.user_name\n",
    "        self.personal_info = ET.SubElement(self.root, \"personal_info\")\n",
    "        self.likes = ET.SubElement(self.root, \"likes\")\n",
    "        self.dislikes = ET.SubElement(self.root, \"dislikes\")\n",
    "\n",
    "    def load_user_model(self):\n",
    "        tree = ET.parse(self.file_path)\n",
    "        self.root = tree.getroot()\n",
    "        self.name = self.root.find(\"name\")\n",
    "        self.personal_info = self.root.find(\"personal_info\")\n",
    "        self.likes = self.root.find(\"likes\")\n",
    "        self.dislikes = self.root.find(\"dislikes\")\n",
    "\n",
    "    def add_personal_information(self, category, info):\n",
    "        if category == 'likes':\n",
    "            self.likes.text = info\n",
    "        elif category == 'dislikes':\n",
    "            self.dislikes.text = info\n",
    "\n",
    "    def save_user_model(self):\n",
    "        tree = ET.ElementTree(self.root)\n",
    "        tree.write(self.file_path)"
   ]
  },
  {
   "cell_type": "code",
   "execution_count": 41,
   "id": "6c8c67c7",
   "metadata": {},
   "outputs": [],
   "source": [
    "def chatbot():\n",
    "    print(\" - \" * 22)\n",
    "    print(\"AJ: Hello! I'm AJ chatbot.\")\n",
    "    print(\" - \" * 22)\n",
    "    print()\n",
    "\n",
    "    print(\"AJ: Hi there! Please tell me your name.\")\n",
    "    user_name = input(\"User: \")\n",
    "    \n",
    "    # Create a user model instance\n",
    "    user_model = UserModel(user_name)\n",
    "\n",
    "    print(f\"AJ: Nice to meet you, {user_name}! What are your interests?\")\n",
    "    user_interests = input(\"User: \")\n",
    "    user_model.add_personal_information('likes', user_interests)\n",
    "\n",
    "    print(\"AJ: And what are your dislikes?\")\n",
    "    user_dislikes = input(\"User: \")\n",
    "    user_model.add_personal_information('dislikes', user_dislikes)\n",
    "    \n",
    "    # Store user's interests and dislikes\n",
    "    user_model.save_user_model()\n",
    "    \n",
    "    # Store user's interests and dislikes\n",
    "    save_conversation(\"Interests\", [], user_name, user_interests, user_dislikes)\n",
    "    save_conversation(\"Dislikes\", [], user_name, user_interests, user_dislikes)\n",
    "\n",
    "    print(f\"\\nAJ: Hi {user_name}, feel free to ask me anything about Taylor Swift.\")\n",
    "\n",
    "    while True:\n",
    "        user_input = input(\"\\nYou: \")\n",
    "        \n",
    "        # Save user's input question\n",
    "        save_conversation(user_input, [], user_name, user_interests, user_dislikes)\n",
    "\n",
    "        # Greetings\n",
    "        if user_input.lower() in [\"hi\", \"hello\"]:\n",
    "            bot_response = get_random_response(user_input)\n",
    "            print(\"AJ:\", bot_response)\n",
    "            save_conversation(user_input, [bot_response], user_name, user_interests, user_dislikes)\n",
    "            print(\"AJ: Enter 'bye' to end the conversation.\")\n",
    "            continue\n",
    "\n",
    "        # Farewell\n",
    "        if user_input.lower() in [\"bye\", \"Bye AJ\", \"goodbye\"]:\n",
    "            bot_response = get_random_response(user_input)\n",
    "            print(\"AJ:\", bot_response)\n",
    "            save_conversation(user_input, [bot_response], user_name, user_interests, user_dislikes)\n",
    "            break\n",
    "\n",
    "        # Process user input\n",
    "        doc = nlp(user_input)\n",
    "        nouns = [token.text for token in doc if token.pos_ == \"NOUN\"]\n",
    "        actions = [token.text for token in doc if token.pos_ == \"VERB\"]\n",
    "\n",
    "        # Implement knowledge base retrieval\n",
    "        fact = fetch_information_from_knowledge_base(user_input, knowledge_base)\n",
    "        if fact:\n",
    "            bot_response = fact\n",
    "        else:\n",
    "            # Perform web lookup if knowledge base does not contain relevant information\n",
    "            web_results = web_lookup(user_input)\n",
    "            if web_results:\n",
    "                bot_response = web_results\n",
    "            else:\n",
    "                bot_response = \"I'm not sure about that.\"\n",
    "\n",
    "        cleaned_response = clean_bot_response(bot_response)\n",
    "        for response in cleaned_response:\n",
    "            print(\"AJ:\", response)\n",
    "        save_conversation(user_input, cleaned_response, user_name, user_interests, user_dislikes)\n",
    "        print(\"AJ: Enter 'bye' to end the conversation.\")"
   ]
  },
  {
   "cell_type": "code",
   "execution_count": 38,
   "id": "6d147510",
   "metadata": {},
   "outputs": [
    {
     "name": "stdout",
     "output_type": "stream",
     "text": [
      " -  -  -  -  -  -  -  -  -  -  -  -  -  -  -  -  -  -  -  -  -  - \n",
      "AJ: Hello! I'm AJ chatbot.\n",
      " -  -  -  -  -  -  -  -  -  -  -  -  -  -  -  -  -  -  -  -  -  - \n",
      "\n",
      "AJ: Hi there! Please tell me your name.\n",
      "User: Hrushi\n",
      "AJ: Nice to meet you, Hrushi! What are your interests?\n",
      "User: Cars, music\n",
      "AJ: And what are your dislikes?\n",
      "User: Nothing\n",
      "\n",
      "AJ: Hi Hrushi, feel free to ask me anything about Taylor Swift.\n",
      "\n",
      "You: when is Taylor born\n",
      "AJ: Life and career Early life Taylor Alison Swift was born on December 13, 1989, in West Reading, Pennsylvania\n",
      "AJ: \n",
      "AJ: Enter 'bye' to end the conversation.\n",
      "\n",
      "You: who is travis\n",
      "AJ: She began dating American football player Travis Kelce in 2023, which has had a significant cultural impact, including a contribution of $331\n",
      "AJ: 5 million in brand value for the National Football League\n",
      "AJ: Enter 'bye' to end the conversation.\n",
      "\n",
      "You: how many jets does taylor own\n",
      "AJ: In 2021, 26 tracks from her second re-recorded album, Red , simultaneously debuted on the Hot 100, marking the first time an artist charted so many Hot 100 entries in a single week\n",
      "AJ: \n",
      "AJ: Enter 'bye' to end the conversation.\n",
      "\n",
      "You: how many cars does taylor own\n",
      "AJ: In 2021, 26 tracks from her second re-recorded album, Red , simultaneously debuted on the Hot 100, marking the first time an artist charted so many Hot 100 entries in a single week\n",
      "AJ: \n",
      "AJ: Enter 'bye' to end the conversation.\n",
      "\n",
      "You: bye\n",
      "AJ: Bye!\n"
     ]
    }
   ],
   "source": [
    "if __name__ == \"__main__\":\n",
    "    chatbot()"
   ]
  },
  {
   "cell_type": "code",
   "execution_count": null,
   "id": "f549618d",
   "metadata": {},
   "outputs": [],
   "source": []
  },
  {
   "cell_type": "code",
   "execution_count": null,
   "id": "83066465",
   "metadata": {},
   "outputs": [],
   "source": []
  },
  {
   "cell_type": "code",
   "execution_count": null,
   "id": "9f205710",
   "metadata": {},
   "outputs": [],
   "source": []
  },
  {
   "cell_type": "code",
   "execution_count": null,
   "id": "5a67c31c",
   "metadata": {},
   "outputs": [],
   "source": []
  },
  {
   "cell_type": "code",
   "execution_count": null,
   "id": "26477b58",
   "metadata": {},
   "outputs": [],
   "source": []
  },
  {
   "cell_type": "code",
   "execution_count": null,
   "id": "faaf43fa",
   "metadata": {},
   "outputs": [],
   "source": []
  },
  {
   "cell_type": "code",
   "execution_count": null,
   "id": "ea61a4dc",
   "metadata": {},
   "outputs": [],
   "source": []
  }
 ],
 "metadata": {
  "kernelspec": {
   "display_name": "Python 3 (ipykernel)",
   "language": "python",
   "name": "python3"
  },
  "language_info": {
   "codemirror_mode": {
    "name": "ipython",
    "version": 3
   },
   "file_extension": ".py",
   "mimetype": "text/x-python",
   "name": "python",
   "nbconvert_exporter": "python",
   "pygments_lexer": "ipython3",
   "version": "3.9.7"
  }
 },
 "nbformat": 4,
 "nbformat_minor": 5
}
